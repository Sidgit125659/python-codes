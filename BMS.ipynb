{
  "nbformat": 4,
  "nbformat_minor": 0,
  "metadata": {
    "colab": {
      "provenance": [],
      "authorship_tag": "ABX9TyMg0dbcku6PP3Yk2D/+bqDk",
      "include_colab_link": true
    },
    "kernelspec": {
      "name": "python3",
      "display_name": "Python 3"
    },
    "language_info": {
      "name": "python"
    }
  },
  "cells": [
    {
      "cell_type": "markdown",
      "metadata": {
        "id": "view-in-github",
        "colab_type": "text"
      },
      "source": [
        "<a href=\"https://colab.research.google.com/github/Sidgit125659/python-codes/blob/main/Untitled21.ipynb\" target=\"_parent\"><img src=\"https://colab.research.google.com/assets/colab-badge.svg\" alt=\"Open In Colab\"/></a>"
      ]
    },
    {
      "cell_type": "code",
      "execution_count": null,
      "metadata": {
        "id": "P9Npx_-4C4hY"
      },
      "outputs": [],
      "source": [
        "import random\n",
        "\n",
        "class BankAccount:\n",
        "    def __init__(self, account_number, balance=0):\n",
        "        self.account_number = account_number\n",
        "        self.balance = balance\n",
        "\n",
        "    def deposit(self, amount):\n",
        "        self.balance += amount\n",
        "        print(f\"Deposited ${amount}. Current balance: ${self.balance}\")\n",
        "\n",
        "    def withdraw(self, amount):\n",
        "        if amount > self.balance:\n",
        "            print(\"Insufficient funds!\")\n",
        "        else:\n",
        "            self.balance -= amount\n",
        "            print(f\"Withdrew ${amount}. Current balance: ${self.balance}\")\n",
        "\n",
        "    def display_balance(self):\n",
        "        print(f\"Account Balance: ${self.balance}\")\n",
        "\n",
        "def generate_account_number():\n",
        "    return ''.join(str(random.randint(0, 9)) for _ in range(10))\n",
        "\n",
        "def main():\n",
        "    accounts = {}\n",
        "\n",
        "    while True:\n",
        "        print(\"\\n===== Banking System Menu =====\")\n",
        "        print(\"1. Create an Account\")\n",
        "        print(\"2. Deposit Money\")\n",
        "        print(\"3. Withdraw Money\")\n",
        "        print(\"4. Display Balance\")\n",
        "        print(\"5. Exit\")\n",
        "\n",
        "        choice = input(\"Enter your choice: \")\n",
        "\n",
        "        if choice == '1':\n",
        "            account_number = generate_account_number()\n",
        "            account = BankAccount(account_number)\n",
        "            accounts[account_number] = account\n",
        "            print(f\"Account created successfully. Your account number is: {account_number}\")\n",
        "\n",
        "        elif choice == '2':\n",
        "            account_number = input(\"Enter your account number: \")\n",
        "            if account_number in accounts:\n",
        "                amount = float(input(\"Enter the amount to deposit: $\"))\n",
        "                accounts[account_number].deposit(amount)\n",
        "            else:\n",
        "                print(\"Invalid account number!\")\n",
        "\n",
        "        elif choice == '3':\n",
        "            account_number = input(\"Enter your account number: \")\n",
        "            if account_number in accounts:\n",
        "                amount = float(input(\"Enter the amount to withdraw: $\"))\n",
        "                accounts[account_number].withdraw(amount)\n",
        "            else:\n",
        "                print(\"Invalid account number!\")\n",
        "\n",
        "        elif choice == '4':\n",
        "            account_number = input(\"Enter your account number: \")\n",
        "            if account_number in accounts:\n",
        "                accounts[account_number].display_balance()\n",
        "            else:\n",
        "                print(\"Invalid account number!\")\n",
        "\n",
        "        elif choice == '5':\n",
        "            print(\"Thank you for using the Banking System. Goodbye!\")\n",
        "            break\n",
        "\n",
        "        else:\n",
        "            print(\"Invalid choice. Please try again.\")\n",
        "\n",
        "if __name__ == \"__main__\":\n",
        "    main()\n"
      ]
    }
  ]
}
